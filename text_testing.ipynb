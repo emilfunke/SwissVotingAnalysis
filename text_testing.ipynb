{
 "cells": [
  {
   "cell_type": "code",
   "execution_count": 19,
   "metadata": {},
   "outputs": [],
   "source": [
    "from transformers import pipeline\n",
    "from germansentiment import SentimentModel\n",
    "import pandas as pd\n",
    "from tqdm import tqdm\n",
    "import seaborn as sns"
   ]
  },
  {
   "cell_type": "code",
   "execution_count": 49,
   "metadata": {},
   "outputs": [],
   "source": [
    "analyzer_fr = pipeline(\n",
    "    task='text-classification',\n",
    "    model=\"cmarkea/distilcamembert-base-sentiment\",\n",
    "    tokenizer=\"cmarkea/distilcamembert-base-sentiment\"\n",
    ")\n",
    "model_de = SentimentModel()"
   ]
  },
  {
   "cell_type": "code",
   "execution_count": 21,
   "metadata": {},
   "outputs": [],
   "source": [
    "def get_fr_sentiment(text):\n",
    "    result = analyzer_fr(text, return_all_scores=True)\n",
    "    res = 0\n",
    "    for i in range(len(result[0])):\n",
    "        if i < 2:\n",
    "            res -= result[0][i]['score']\n",
    "        elif i==2:\n",
    "            continue\n",
    "        elif i > 2:\n",
    "            res += result[0][i]['score']\n",
    "    return res"
   ]
  },
  {
   "cell_type": "code",
   "execution_count": 40,
   "metadata": {},
   "outputs": [],
   "source": [
    "def get_de_sentiment(text):\n",
    "    res = 0\n",
    "    classes, probabilities = model_de.predict_sentiment([text], output_probabilities=True)\n",
    "    for i in range(len(probabilities[0])):\n",
    "        if i == 0:\n",
    "            res += probabilities[0][i][1]\n",
    "        elif i==1:\n",
    "            res -= probabilities[0][i][1]\n",
    "        elif i == 2:\n",
    "            continue\n",
    "    return res"
   ]
  },
  {
   "cell_type": "code",
   "execution_count": 47,
   "metadata": {},
   "outputs": [
    {
     "data": {
      "text/plain": [
       "(['neutral'],\n",
       " [[['positive', 2.449015482852701e-05],\n",
       "   ['negative', 7.881760393502191e-05],\n",
       "   ['neutral', 0.9998966455459595]]])"
      ]
     },
     "execution_count": 47,
     "metadata": {},
     "output_type": "execute_result"
    }
   ],
   "source": [
    "model_de.predict_sentiment(['Totalrevision vom 12. September 1848'], output_probabilities=True)"
   ]
  },
  {
   "cell_type": "code",
   "execution_count": 50,
   "metadata": {},
   "outputs": [
    {
     "name": "stderr",
     "output_type": "stream",
     "text": [
      "/Users/emilfunke/ETH/Master/semester_12/big-data-for-public-policy-2023/big_data_public_policy/.venv/lib/python3.9/site-packages/transformers/pipelines/text_classification.py:104: UserWarning: `return_all_scores` is now deprecated,  if want a similar funcionality use `top_k=None` instead of `return_all_scores=True` or `top_k=1` instead of `return_all_scores=False`.\n",
      "  warnings.warn(\n"
     ]
    },
    {
     "data": {
      "text/plain": [
       "[[{'label': '1 star', 'score': 0.0640670508146286},\n",
       "  {'label': '2 stars', 'score': 0.09194723516702652},\n",
       "  {'label': '3 stars', 'score': 0.20788197219371796},\n",
       "  {'label': '4 stars', 'score': 0.34930822253227234},\n",
       "  {'label': '5 stars', 'score': 0.2867954969406128}]]"
      ]
     },
     "execution_count": 50,
     "metadata": {},
     "output_type": "execute_result"
    }
   ],
   "source": [
    "analyzer_fr('Révision totale du 12 septembre 1848', return_all_scores=True)"
   ]
  },
  {
   "cell_type": "code",
   "execution_count": 46,
   "metadata": {},
   "outputs": [
    {
     "data": {
      "text/plain": [
       "0.9735656743869185"
      ]
     },
     "execution_count": 46,
     "metadata": {},
     "output_type": "execute_result"
    }
   ],
   "source": [
    "get_de_sentiment('Ich liebe dich')"
   ]
  },
  {
   "cell_type": "code",
   "execution_count": 23,
   "metadata": {},
   "outputs": [
    {
     "data": {
      "text/plain": [
       "5.4327449106494896e-05"
      ]
     },
     "execution_count": 23,
     "metadata": {},
     "output_type": "execute_result"
    }
   ],
   "source": [
    "get_de_sentiment(\"Totalrevision vom 12. September 1848\")"
   ]
  },
  {
   "cell_type": "code",
   "execution_count": 24,
   "metadata": {},
   "outputs": [
    {
     "name": "stderr",
     "output_type": "stream",
     "text": [
      "/Users/emilfunke/ETH/Master/semester_12/big-data-for-public-policy-2023/big_data_public_policy/.venv/lib/python3.9/site-packages/transformers/pipelines/text_classification.py:104: UserWarning: `return_all_scores` is now deprecated,  if want a similar funcionality use `top_k=None` instead of `return_all_scores=True` or `top_k=1` instead of `return_all_scores=False`.\n",
      "  warnings.warn(\n"
     ]
    },
    {
     "data": {
      "text/plain": [
       "0.48008943349123"
      ]
     },
     "execution_count": 24,
     "metadata": {},
     "output_type": "execute_result"
    }
   ],
   "source": [
    "get_fr_sentiment(\"Révision totale du 12 septembre 1848\")"
   ]
  },
  {
   "cell_type": "code",
   "execution_count": 28,
   "metadata": {},
   "outputs": [],
   "source": [
    "data = pd.read_excel('./data/DATASET XLSX 06-07-2023.xlsx', sheet_name='DATA')"
   ]
  },
  {
   "cell_type": "code",
   "execution_count": 29,
   "metadata": {},
   "outputs": [],
   "source": [
    "text_data = data[['anr', 'datum', 'titel_kurz_d', 'titel_kurz_f', 'titel_off_d', 'titel_off_f']]"
   ]
  },
  {
   "cell_type": "code",
   "execution_count": 41,
   "metadata": {},
   "outputs": [
    {
     "name": "stderr",
     "output_type": "stream",
     "text": [
      "100%|██████████| 683/683 [00:26<00:00, 25.43it/s]\n",
      "/var/folders/7j/4yddf5jd08n3l2v3ylwjbw_40000gn/T/ipykernel_39270/442075433.py:2: SettingWithCopyWarning: \n",
      "A value is trying to be set on a copy of a slice from a DataFrame.\n",
      "Try using .loc[row_indexer,col_indexer] = value instead\n",
      "\n",
      "See the caveats in the documentation: https://pandas.pydata.org/pandas-docs/stable/user_guide/indexing.html#returning-a-view-versus-a-copy\n",
      "  text_data['sentiment_d'] = text_data['titel_off_d'].progress_apply(get_de_sentiment)\n",
      "  0%|          | 0/683 [00:00<?, ?it/s]/Users/emilfunke/ETH/Master/semester_12/big-data-for-public-policy-2023/big_data_public_policy/.venv/lib/python3.9/site-packages/transformers/pipelines/text_classification.py:104: UserWarning: `return_all_scores` is now deprecated,  if want a similar funcionality use `top_k=None` instead of `return_all_scores=True` or `top_k=1` instead of `return_all_scores=False`.\n",
      "  warnings.warn(\n",
      "100%|██████████| 683/683 [00:13<00:00, 51.19it/s]\n",
      "/var/folders/7j/4yddf5jd08n3l2v3ylwjbw_40000gn/T/ipykernel_39270/442075433.py:3: SettingWithCopyWarning: \n",
      "A value is trying to be set on a copy of a slice from a DataFrame.\n",
      "Try using .loc[row_indexer,col_indexer] = value instead\n",
      "\n",
      "See the caveats in the documentation: https://pandas.pydata.org/pandas-docs/stable/user_guide/indexing.html#returning-a-view-versus-a-copy\n",
      "  text_data['sentiment_fr'] = text_data['titel_off_f'].progress_apply(get_fr_sentiment)\n"
     ]
    }
   ],
   "source": [
    "tqdm.pandas()\n",
    "text_data['sentiment_d'] = text_data['titel_off_d'].progress_apply(get_de_sentiment)\n",
    "text_data['sentiment_fr'] = text_data['titel_off_f'].progress_apply(get_fr_sentiment)"
   ]
  },
  {
   "cell_type": "code",
   "execution_count": 44,
   "metadata": {},
   "outputs": [
    {
     "data": {
      "text/html": [
       "<div>\n",
       "<style scoped>\n",
       "    .dataframe tbody tr th:only-of-type {\n",
       "        vertical-align: middle;\n",
       "    }\n",
       "\n",
       "    .dataframe tbody tr th {\n",
       "        vertical-align: top;\n",
       "    }\n",
       "\n",
       "    .dataframe thead th {\n",
       "        text-align: right;\n",
       "    }\n",
       "</style>\n",
       "<table border=\"1\" class=\"dataframe\">\n",
       "  <thead>\n",
       "    <tr style=\"text-align: right;\">\n",
       "      <th></th>\n",
       "      <th>anr</th>\n",
       "      <th>datum</th>\n",
       "      <th>titel_kurz_d</th>\n",
       "      <th>titel_kurz_f</th>\n",
       "      <th>titel_off_d</th>\n",
       "      <th>titel_off_f</th>\n",
       "      <th>sentiment_d</th>\n",
       "      <th>sentiment_fr</th>\n",
       "      <th>sentiment_d_bert_label</th>\n",
       "      <th>sentiment_fr_bert_label</th>\n",
       "      <th>sentiment_d_bert_score</th>\n",
       "      <th>sentiment_fr_bert_score</th>\n",
       "    </tr>\n",
       "  </thead>\n",
       "  <tbody>\n",
       "    <tr>\n",
       "      <th>0</th>\n",
       "      <td>1.0</td>\n",
       "      <td>12.09.1848</td>\n",
       "      <td>Bundesverfassung der schweizerischen Eidgenoss...</td>\n",
       "      <td>Constitution fédérale de la Confédération suisse</td>\n",
       "      <td>Totalrevision vom 12. September 1848</td>\n",
       "      <td>Révision totale du 12 septembre 1848</td>\n",
       "      <td>-0.000054</td>\n",
       "      <td>0.480089</td>\n",
       "      <td>NEGATIVE</td>\n",
       "      <td>POSITIVE</td>\n",
       "      <td>0.760317</td>\n",
       "      <td>0.961079</td>\n",
       "    </tr>\n",
       "    <tr>\n",
       "      <th>1</th>\n",
       "      <td>2.0</td>\n",
       "      <td>14.01.1866</td>\n",
       "      <td>Mass und Gewicht</td>\n",
       "      <td>Poids et mesures</td>\n",
       "      <td>Festsetzung von Mass und Gewicht</td>\n",
       "      <td>Poids et mesures</td>\n",
       "      <td>-0.000044</td>\n",
       "      <td>0.431590</td>\n",
       "      <td>NEGATIVE</td>\n",
       "      <td>NEGATIVE</td>\n",
       "      <td>0.925410</td>\n",
       "      <td>0.877566</td>\n",
       "    </tr>\n",
       "    <tr>\n",
       "      <th>2</th>\n",
       "      <td>3.0</td>\n",
       "      <td>14.01.1866</td>\n",
       "      <td>Gleichstellung der Juden und Naturalisierten m...</td>\n",
       "      <td>Egalité des Juifs</td>\n",
       "      <td>Gleichstellung der Juden und Naturalisierten m...</td>\n",
       "      <td>Egalité des citoyens au point de vue de l'étab...</td>\n",
       "      <td>-0.000003</td>\n",
       "      <td>0.741770</td>\n",
       "      <td>NEGATIVE</td>\n",
       "      <td>POSITIVE</td>\n",
       "      <td>0.744371</td>\n",
       "      <td>0.874233</td>\n",
       "    </tr>\n",
       "    <tr>\n",
       "      <th>3</th>\n",
       "      <td>4.0</td>\n",
       "      <td>14.01.1866</td>\n",
       "      <td>Stimmrecht der Niedergelassenen in Gemeindeang...</td>\n",
       "      <td>Droit de vote des Suisses établis, en matière ...</td>\n",
       "      <td>Stimmrecht der Niedergelassenen in Gemeindeang...</td>\n",
       "      <td>Droit de vote des Suisses établis, en matière ...</td>\n",
       "      <td>-0.000009</td>\n",
       "      <td>0.597496</td>\n",
       "      <td>NEGATIVE</td>\n",
       "      <td>NEGATIVE</td>\n",
       "      <td>0.989402</td>\n",
       "      <td>0.889291</td>\n",
       "    </tr>\n",
       "    <tr>\n",
       "      <th>4</th>\n",
       "      <td>5.0</td>\n",
       "      <td>14.01.1866</td>\n",
       "      <td>Besteuerung und zivilrechtliche Verhältnisse d...</td>\n",
       "      <td>Impôts et rapports civils des Suisses établis</td>\n",
       "      <td>Besteuerung und zivilrechtliche Verhältnisse d...</td>\n",
       "      <td>Impôts et rapports civils des Suisses établis</td>\n",
       "      <td>-0.000011</td>\n",
       "      <td>0.492853</td>\n",
       "      <td>NEGATIVE</td>\n",
       "      <td>NEGATIVE</td>\n",
       "      <td>0.924015</td>\n",
       "      <td>0.976277</td>\n",
       "    </tr>\n",
       "  </tbody>\n",
       "</table>\n",
       "</div>"
      ],
      "text/plain": [
       "   anr       datum                                       titel_kurz_d  \\\n",
       "0  1.0  12.09.1848  Bundesverfassung der schweizerischen Eidgenoss...   \n",
       "1  2.0  14.01.1866                                   Mass und Gewicht   \n",
       "2  3.0  14.01.1866  Gleichstellung der Juden und Naturalisierten m...   \n",
       "3  4.0  14.01.1866  Stimmrecht der Niedergelassenen in Gemeindeang...   \n",
       "4  5.0  14.01.1866  Besteuerung und zivilrechtliche Verhältnisse d...   \n",
       "\n",
       "                                        titel_kurz_f  \\\n",
       "0   Constitution fédérale de la Confédération suisse   \n",
       "1                                   Poids et mesures   \n",
       "2                                  Egalité des Juifs   \n",
       "3  Droit de vote des Suisses établis, en matière ...   \n",
       "4      Impôts et rapports civils des Suisses établis   \n",
       "\n",
       "                                         titel_off_d  \\\n",
       "0               Totalrevision vom 12. September 1848   \n",
       "1                   Festsetzung von Mass und Gewicht   \n",
       "2  Gleichstellung der Juden und Naturalisierten m...   \n",
       "3  Stimmrecht der Niedergelassenen in Gemeindeang...   \n",
       "4  Besteuerung und zivilrechtliche Verhältnisse d...   \n",
       "\n",
       "                                         titel_off_f  sentiment_d  \\\n",
       "0               Révision totale du 12 septembre 1848    -0.000054   \n",
       "1                                   Poids et mesures    -0.000044   \n",
       "2  Egalité des citoyens au point de vue de l'étab...    -0.000003   \n",
       "3  Droit de vote des Suisses établis, en matière ...    -0.000009   \n",
       "4      Impôts et rapports civils des Suisses établis    -0.000011   \n",
       "\n",
       "   sentiment_fr sentiment_d_bert_label sentiment_fr_bert_label  \\\n",
       "0      0.480089               NEGATIVE                POSITIVE   \n",
       "1      0.431590               NEGATIVE                NEGATIVE   \n",
       "2      0.741770               NEGATIVE                POSITIVE   \n",
       "3      0.597496               NEGATIVE                NEGATIVE   \n",
       "4      0.492853               NEGATIVE                NEGATIVE   \n",
       "\n",
       "   sentiment_d_bert_score  sentiment_fr_bert_score  \n",
       "0                0.760317                 0.961079  \n",
       "1                0.925410                 0.877566  \n",
       "2                0.744371                 0.874233  \n",
       "3                0.989402                 0.889291  \n",
       "4                0.924015                 0.976277  "
      ]
     },
     "execution_count": 44,
     "metadata": {},
     "output_type": "execute_result"
    }
   ],
   "source": [
    "text_data.head()"
   ]
  },
  {
   "cell_type": "code",
   "execution_count": 42,
   "metadata": {},
   "outputs": [
    {
     "data": {
      "text/plain": [
       "<Axes: xlabel='anr', ylabel='sentiment_d'>"
      ]
     },
     "execution_count": 42,
     "metadata": {},
     "output_type": "execute_result"
    },
    {
     "data": {
      "image/png": "[encoded data removed]",
      "text/plain": [
       "<Figure size 640x480 with 1 Axes>"
      ]
     },
     "metadata": {},
     "output_type": "display_data"
    }
   ],
   "source": [
    "sns.lineplot(data=text_data, x='anr', y=\"sentiment_d\")"
   ]
  },
  {
   "cell_type": "code",
   "execution_count": 43,
   "metadata": {},
   "outputs": [
    {
     "data": {
      "text/plain": [
       "<Axes: xlabel='anr', ylabel='sentiment_fr'>"
      ]
     },
     "execution_count": 43,
     "metadata": {},
     "output_type": "execute_result"
    },
    {
     "data": {
      "image/png": "[encoded data removed]",
      "text/plain": [
       "<Figure size 640x480 with 1 Axes>"
      ]
     },
     "metadata": {},
     "output_type": "display_data"
    }
   ],
   "source": [
    "sns.lineplot(data=text_data, x='anr', y=\"sentiment_fr\")"
   ]
  },
  {
   "cell_type": "code",
   "execution_count": 88,
   "metadata": {},
   "outputs": [
    {
     "data": {
      "text/plain": [
       "<Axes: xlabel='sentiment_fr', ylabel='Count'>"
      ]
     },
     "execution_count": 88,
     "metadata": {},
     "output_type": "execute_result"
    },
    {
     "data": {
      "image/png": "[encoded data removed]",
      "text/plain": [
       "<Figure size 640x480 with 1 Axes>"
      ]
     },
     "metadata": {},
     "output_type": "display_data"
    }
   ],
   "source": [
    "sns.histplot(data=text_data, x='sentiment_fr', bins=100)"
   ]
  },
  {
   "cell_type": "code",
   "execution_count": 13,
   "metadata": {},
   "outputs": [
    {
     "name": "stderr",
     "output_type": "stream",
     "text": [
      "Some weights of the model checkpoint at bert-base-multilingual-uncased were not used when initializing BertForSequenceClassification: ['cls.predictions.bias', 'cls.predictions.transform.LayerNorm.bias', 'cls.predictions.transform.dense.bias', 'cls.seq_relationship.bias', 'cls.seq_relationship.weight', 'cls.predictions.transform.LayerNorm.weight', 'cls.predictions.transform.dense.weight']\n",
      "- This IS expected if you are initializing BertForSequenceClassification from the checkpoint of a model trained on another task or with another architecture (e.g. initializing a BertForSequenceClassification model from a BertForPreTraining model).\n",
      "- This IS NOT expected if you are initializing BertForSequenceClassification from the checkpoint of a model that you expect to be exactly identical (initializing a BertForSequenceClassification model from a BertForSequenceClassification model).\n",
      "Some weights of BertForSequenceClassification were not initialized from the model checkpoint at bert-base-multilingual-uncased and are newly initialized: ['classifier.bias', 'classifier.weight']\n",
      "You should probably TRAIN this model on a down-stream task to be able to use it for predictions and inference.\n"
     ]
    },
    {
     "name": "stdout",
     "output_type": "stream",
     "text": [
      "[{'label': 'LABEL_0', 'score': 0.5279800891876221}]\n",
      "Text: I hate this movie\n",
      "Sentiment: LABEL_0\n",
      "Score: 0.5279800891876221\n",
      "\n",
      "\n",
      "[{'label': 'LABEL_0', 'score': 0.5279750227928162}]\n",
      "Text: Je déteste ce livre\n",
      "Sentiment: LABEL_0\n",
      "Score: 0.5279750227928162\n",
      "\n",
      "\n",
      "[{'label': 'LABEL_0', 'score': 0.5305089354515076}]\n",
      "Text: Me encanta este restaurante\n",
      "Sentiment: LABEL_0\n",
      "Score: 0.5305089354515076\n",
      "\n",
      "\n",
      "[{'label': 'LABEL_0', 'score': 0.5281014442443848}]\n",
      "Text: Ich hasse diesen Film\n",
      "Sentiment: LABEL_0\n",
      "Score: 0.5281014442443848\n",
      "\n",
      "\n",
      "[{'label': 'LABEL_0', 'score': 0.5300115346908569}]\n",
      "Text: Amo questo libro\n",
      "Sentiment: LABEL_0\n",
      "Score: 0.5300115346908569\n",
      "\n",
      "\n"
     ]
    }
   ],
   "source": [
    "from transformers import pipeline\n",
    "\n",
    "# Create a sentiment analysis pipeline\n",
    "sentiment_classifier = pipeline(\"sentiment-analysis\", model=\"bert-base-multilingual-uncased\")\n",
    "\n",
    "# Define a list of texts in different languages\n",
    "texts = [\n",
    "    \"I hate this movie\",\n",
    "    \"Je déteste ce livre\",\n",
    "    \"Me encanta este restaurante\",\n",
    "    \"Ich hasse diesen Film\",\n",
    "    \"Amo questo libro\"\n",
    "]\n",
    "\n",
    "# Analyze sentiment for each text\n",
    "for text in texts:\n",
    "    result = sentiment_classifier(text)\n",
    "    print(result)\n",
    "    sentiment = result[0]['label']\n",
    "    score = result[0]['score']\n",
    "    #print(f\"Text: {text}\")\n",
    "    #print(f\"Score: {score}\")\n",
    "    ##print(f\"Sentiment: {sentiment}\")\n",
    "    #print(\"\\n\")\n"
   ]
  },
  {
   "cell_type": "code",
   "execution_count": 16,
   "metadata": {},
   "outputs": [
    {
     "name": "stderr",
     "output_type": "stream",
     "text": [
      "No model was supplied, defaulted to distilbert-base-uncased-finetuned-sst-2-english and revision af0f99b (https://huggingface.co/distilbert-base-uncased-finetuned-sst-2-english).\n",
      "Using a pipeline without specifying a model name and revision in production is not recommended.\n",
      "Downloading (…)lve/main/config.json: 100%|██████████| 629/629 [00:00<00:00, 396kB/s]\n",
      "Downloading model.safetensors: 100%|██████████| 268M/268M [00:08<00:00, 31.1MB/s] \n",
      "Downloading (…)okenizer_config.json: 100%|██████████| 48.0/48.0 [00:00<00:00, 39.3kB/s]\n",
      "Downloading (…)solve/main/vocab.txt: 100%|██████████| 232k/232k [00:00<00:00, 1.24MB/s]\n"
     ]
    }
   ],
   "source": [
    "sentiment = pipeline(task=\"sentiment-analysis\")"
   ]
  },
  {
   "cell_type": "code",
   "execution_count": 33,
   "metadata": {},
   "outputs": [],
   "source": [
    "def get_bert_label(text):\n",
    "    return sentiment(text)[0]['label']\n",
    "def get_bert_score(text):\n",
    "    return sentiment(text)[0]['score']\n",
    "def get_bert(text):\n",
    "    return sentiment(text)[0]"
   ]
  },
  {
   "cell_type": "code",
   "execution_count": 31,
   "metadata": {},
   "outputs": [
    {
     "data": {
      "text/plain": [
       "{'label': 'POSITIVE', 'score': 0.9610792398452759}"
      ]
     },
     "execution_count": 31,
     "metadata": {},
     "output_type": "execute_result"
    }
   ],
   "source": [
    "get_bert(\"Révision totale du 12 septembre 1848\")"
   ]
  },
  {
   "cell_type": "code",
   "execution_count": 34,
   "metadata": {},
   "outputs": [
    {
     "name": "stderr",
     "output_type": "stream",
     "text": [
      "100%|██████████| 683/683 [00:13<00:00, 49.67it/s]\n",
      "/var/folders/7j/4yddf5jd08n3l2v3ylwjbw_40000gn/T/ipykernel_39270/167127510.py:1: SettingWithCopyWarning: \n",
      "A value is trying to be set on a copy of a slice from a DataFrame.\n",
      "Try using .loc[row_indexer,col_indexer] = value instead\n",
      "\n",
      "See the caveats in the documentation: https://pandas.pydata.org/pandas-docs/stable/user_guide/indexing.html#returning-a-view-versus-a-copy\n",
      "  text_data['sentiment_d_bert_label'] = text_data['titel_off_d'].progress_apply(get_bert_label)\n",
      "100%|██████████| 683/683 [00:13<00:00, 50.03it/s]\n",
      "/var/folders/7j/4yddf5jd08n3l2v3ylwjbw_40000gn/T/ipykernel_39270/167127510.py:2: SettingWithCopyWarning: \n",
      "A value is trying to be set on a copy of a slice from a DataFrame.\n",
      "Try using .loc[row_indexer,col_indexer] = value instead\n",
      "\n",
      "See the caveats in the documentation: https://pandas.pydata.org/pandas-docs/stable/user_guide/indexing.html#returning-a-view-versus-a-copy\n",
      "  text_data['sentiment_fr_bert_label'] = text_data['titel_off_f'].progress_apply(get_bert_label)\n",
      "100%|██████████| 683/683 [00:13<00:00, 49.38it/s]\n",
      "/var/folders/7j/4yddf5jd08n3l2v3ylwjbw_40000gn/T/ipykernel_39270/167127510.py:3: SettingWithCopyWarning: \n",
      "A value is trying to be set on a copy of a slice from a DataFrame.\n",
      "Try using .loc[row_indexer,col_indexer] = value instead\n",
      "\n",
      "See the caveats in the documentation: https://pandas.pydata.org/pandas-docs/stable/user_guide/indexing.html#returning-a-view-versus-a-copy\n",
      "  text_data['sentiment_d_bert_score'] = text_data['titel_off_d'].progress_apply(get_bert_score)\n",
      "100%|██████████| 683/683 [00:14<00:00, 48.02it/s]\n",
      "/var/folders/7j/4yddf5jd08n3l2v3ylwjbw_40000gn/T/ipykernel_39270/167127510.py:4: SettingWithCopyWarning: \n",
      "A value is trying to be set on a copy of a slice from a DataFrame.\n",
      "Try using .loc[row_indexer,col_indexer] = value instead\n",
      "\n",
      "See the caveats in the documentation: https://pandas.pydata.org/pandas-docs/stable/user_guide/indexing.html#returning-a-view-versus-a-copy\n",
      "  text_data['sentiment_fr_bert_score'] = text_data['titel_off_f'].progress_apply(get_bert_score)\n"
     ]
    }
   ],
   "source": [
    "text_data['sentiment_d_bert_label'] = text_data['titel_off_d'].progress_apply(get_bert_label)\n",
    "text_data['sentiment_fr_bert_label'] = text_data['titel_off_f'].progress_apply(get_bert_label)\n",
    "text_data['sentiment_d_bert_score'] = text_data['titel_off_d'].progress_apply(get_bert_score)\n",
    "text_data['sentiment_fr_bert_score'] = text_data['titel_off_f'].progress_apply(get_bert_score)"
   ]
  },
  {
   "cell_type": "code",
   "execution_count": 51,
   "metadata": {},
   "outputs": [
    {
     "data": {
      "text/html": [
       "<div>\n",
       "<style scoped>\n",
       "    .dataframe tbody tr th:only-of-type {\n",
       "        vertical-align: middle;\n",
       "    }\n",
       "\n",
       "    .dataframe tbody tr th {\n",
       "        vertical-align: top;\n",
       "    }\n",
       "\n",
       "    .dataframe thead th {\n",
       "        text-align: right;\n",
       "    }\n",
       "</style>\n",
       "<table border=\"1\" class=\"dataframe\">\n",
       "  <thead>\n",
       "    <tr style=\"text-align: right;\">\n",
       "      <th></th>\n",
       "      <th>anr</th>\n",
       "      <th>datum</th>\n",
       "      <th>titel_kurz_d</th>\n",
       "      <th>titel_kurz_f</th>\n",
       "      <th>titel_off_d</th>\n",
       "      <th>titel_off_f</th>\n",
       "      <th>sentiment_d</th>\n",
       "      <th>sentiment_fr</th>\n",
       "      <th>sentiment_d_bert_label</th>\n",
       "      <th>sentiment_fr_bert_label</th>\n",
       "      <th>sentiment_d_bert_score</th>\n",
       "      <th>sentiment_fr_bert_score</th>\n",
       "    </tr>\n",
       "  </thead>\n",
       "  <tbody>\n",
       "    <tr>\n",
       "      <th>0</th>\n",
       "      <td>1.0</td>\n",
       "      <td>12.09.1848</td>\n",
       "      <td>Bundesverfassung der schweizerischen Eidgenoss...</td>\n",
       "      <td>Constitution fédérale de la Confédération suisse</td>\n",
       "      <td>Totalrevision vom 12. September 1848</td>\n",
       "      <td>Révision totale du 12 septembre 1848</td>\n",
       "      <td>-0.000054</td>\n",
       "      <td>0.480089</td>\n",
       "      <td>NEGATIVE</td>\n",
       "      <td>POSITIVE</td>\n",
       "      <td>0.760317</td>\n",
       "      <td>0.961079</td>\n",
       "    </tr>\n",
       "    <tr>\n",
       "      <th>1</th>\n",
       "      <td>2.0</td>\n",
       "      <td>14.01.1866</td>\n",
       "      <td>Mass und Gewicht</td>\n",
       "      <td>Poids et mesures</td>\n",
       "      <td>Festsetzung von Mass und Gewicht</td>\n",
       "      <td>Poids et mesures</td>\n",
       "      <td>-0.000044</td>\n",
       "      <td>0.431590</td>\n",
       "      <td>NEGATIVE</td>\n",
       "      <td>NEGATIVE</td>\n",
       "      <td>0.925410</td>\n",
       "      <td>0.877566</td>\n",
       "    </tr>\n",
       "    <tr>\n",
       "      <th>2</th>\n",
       "      <td>3.0</td>\n",
       "      <td>14.01.1866</td>\n",
       "      <td>Gleichstellung der Juden und Naturalisierten m...</td>\n",
       "      <td>Egalité des Juifs</td>\n",
       "      <td>Gleichstellung der Juden und Naturalisierten m...</td>\n",
       "      <td>Egalité des citoyens au point de vue de l'étab...</td>\n",
       "      <td>-0.000003</td>\n",
       "      <td>0.741770</td>\n",
       "      <td>NEGATIVE</td>\n",
       "      <td>POSITIVE</td>\n",
       "      <td>0.744371</td>\n",
       "      <td>0.874233</td>\n",
       "    </tr>\n",
       "    <tr>\n",
       "      <th>3</th>\n",
       "      <td>4.0</td>\n",
       "      <td>14.01.1866</td>\n",
       "      <td>Stimmrecht der Niedergelassenen in Gemeindeang...</td>\n",
       "      <td>Droit de vote des Suisses établis, en matière ...</td>\n",
       "      <td>Stimmrecht der Niedergelassenen in Gemeindeang...</td>\n",
       "      <td>Droit de vote des Suisses établis, en matière ...</td>\n",
       "      <td>-0.000009</td>\n",
       "      <td>0.597496</td>\n",
       "      <td>NEGATIVE</td>\n",
       "      <td>NEGATIVE</td>\n",
       "      <td>0.989402</td>\n",
       "      <td>0.889291</td>\n",
       "    </tr>\n",
       "    <tr>\n",
       "      <th>4</th>\n",
       "      <td>5.0</td>\n",
       "      <td>14.01.1866</td>\n",
       "      <td>Besteuerung und zivilrechtliche Verhältnisse d...</td>\n",
       "      <td>Impôts et rapports civils des Suisses établis</td>\n",
       "      <td>Besteuerung und zivilrechtliche Verhältnisse d...</td>\n",
       "      <td>Impôts et rapports civils des Suisses établis</td>\n",
       "      <td>-0.000011</td>\n",
       "      <td>0.492853</td>\n",
       "      <td>NEGATIVE</td>\n",
       "      <td>NEGATIVE</td>\n",
       "      <td>0.924015</td>\n",
       "      <td>0.976277</td>\n",
       "    </tr>\n",
       "    <tr>\n",
       "      <th>5</th>\n",
       "      <td>6.0</td>\n",
       "      <td>14.01.1866</td>\n",
       "      <td>Stimmrecht der Niedergelassenen in kantonalen ...</td>\n",
       "      <td>Droit de vote des Suisses établis, en matière ...</td>\n",
       "      <td>Stimmrecht der Niedergelassenen in kantonalen ...</td>\n",
       "      <td>Droit de vote des Suisses établis, en matière ...</td>\n",
       "      <td>-0.000005</td>\n",
       "      <td>0.605837</td>\n",
       "      <td>NEGATIVE</td>\n",
       "      <td>NEGATIVE</td>\n",
       "      <td>0.986888</td>\n",
       "      <td>0.901213</td>\n",
       "    </tr>\n",
       "    <tr>\n",
       "      <th>6</th>\n",
       "      <td>7.0</td>\n",
       "      <td>14.01.1866</td>\n",
       "      <td>Glaubens- und Kultusfreiheit</td>\n",
       "      <td>Liberté de conscience et des cultes</td>\n",
       "      <td>Glaubens- und Kultusfreiheit</td>\n",
       "      <td>Liberté de conscience et des cultes</td>\n",
       "      <td>0.000266</td>\n",
       "      <td>0.832642</td>\n",
       "      <td>NEGATIVE</td>\n",
       "      <td>POSITIVE</td>\n",
       "      <td>0.966816</td>\n",
       "      <td>0.979677</td>\n",
       "    </tr>\n",
       "    <tr>\n",
       "      <th>7</th>\n",
       "      <td>8.0</td>\n",
       "      <td>14.01.1866</td>\n",
       "      <td>Ausschliessung einzelner Strafarten</td>\n",
       "      <td>Interdiction de certains genres de peines</td>\n",
       "      <td>Ausschliessung einzelner Strafarten</td>\n",
       "      <td>Interdiction de certains genres de peines</td>\n",
       "      <td>-0.000210</td>\n",
       "      <td>0.513442</td>\n",
       "      <td>NEGATIVE</td>\n",
       "      <td>NEGATIVE</td>\n",
       "      <td>0.930426</td>\n",
       "      <td>0.975560</td>\n",
       "    </tr>\n",
       "    <tr>\n",
       "      <th>8</th>\n",
       "      <td>9.0</td>\n",
       "      <td>14.01.1866</td>\n",
       "      <td>Schutz des geistigen Eigentums</td>\n",
       "      <td>Protection de la propriété littéraire, artisti...</td>\n",
       "      <td>Schutz des geistigen Eigentums</td>\n",
       "      <td>Protection de la propriété littéraire, artisti...</td>\n",
       "      <td>-0.000005</td>\n",
       "      <td>0.709514</td>\n",
       "      <td>NEGATIVE</td>\n",
       "      <td>POSITIVE</td>\n",
       "      <td>0.769979</td>\n",
       "      <td>0.996394</td>\n",
       "    </tr>\n",
       "    <tr>\n",
       "      <th>9</th>\n",
       "      <td>10.0</td>\n",
       "      <td>14.01.1866</td>\n",
       "      <td>Verbot der Lotterie und Hasardspiele</td>\n",
       "      <td>Interdiction des loteries et jeux de hasard</td>\n",
       "      <td>Verbot der Lotterie und Hasardspiele</td>\n",
       "      <td>Interdiction des loteries et jeux de hasard</td>\n",
       "      <td>-0.000143</td>\n",
       "      <td>0.578163</td>\n",
       "      <td>NEGATIVE</td>\n",
       "      <td>NEGATIVE</td>\n",
       "      <td>0.988488</td>\n",
       "      <td>0.973286</td>\n",
       "    </tr>\n",
       "  </tbody>\n",
       "</table>\n",
       "</div>"
      ],
      "text/plain": [
       "    anr       datum                                       titel_kurz_d  \\\n",
       "0   1.0  12.09.1848  Bundesverfassung der schweizerischen Eidgenoss...   \n",
       "1   2.0  14.01.1866                                   Mass und Gewicht   \n",
       "2   3.0  14.01.1866  Gleichstellung der Juden und Naturalisierten m...   \n",
       "3   4.0  14.01.1866  Stimmrecht der Niedergelassenen in Gemeindeang...   \n",
       "4   5.0  14.01.1866  Besteuerung und zivilrechtliche Verhältnisse d...   \n",
       "5   6.0  14.01.1866  Stimmrecht der Niedergelassenen in kantonalen ...   \n",
       "6   7.0  14.01.1866                       Glaubens- und Kultusfreiheit   \n",
       "7   8.0  14.01.1866                Ausschliessung einzelner Strafarten   \n",
       "8   9.0  14.01.1866                     Schutz des geistigen Eigentums   \n",
       "9  10.0  14.01.1866               Verbot der Lotterie und Hasardspiele   \n",
       "\n",
       "                                        titel_kurz_f  \\\n",
       "0   Constitution fédérale de la Confédération suisse   \n",
       "1                                   Poids et mesures   \n",
       "2                                  Egalité des Juifs   \n",
       "3  Droit de vote des Suisses établis, en matière ...   \n",
       "4      Impôts et rapports civils des Suisses établis   \n",
       "5  Droit de vote des Suisses établis, en matière ...   \n",
       "6                Liberté de conscience et des cultes   \n",
       "7          Interdiction de certains genres de peines   \n",
       "8  Protection de la propriété littéraire, artisti...   \n",
       "9        Interdiction des loteries et jeux de hasard   \n",
       "\n",
       "                                         titel_off_d  \\\n",
       "0               Totalrevision vom 12. September 1848   \n",
       "1                   Festsetzung von Mass und Gewicht   \n",
       "2  Gleichstellung der Juden und Naturalisierten m...   \n",
       "3  Stimmrecht der Niedergelassenen in Gemeindeang...   \n",
       "4  Besteuerung und zivilrechtliche Verhältnisse d...   \n",
       "5  Stimmrecht der Niedergelassenen in kantonalen ...   \n",
       "6                       Glaubens- und Kultusfreiheit   \n",
       "7                Ausschliessung einzelner Strafarten   \n",
       "8                     Schutz des geistigen Eigentums   \n",
       "9               Verbot der Lotterie und Hasardspiele   \n",
       "\n",
       "                                         titel_off_f  sentiment_d  \\\n",
       "0               Révision totale du 12 septembre 1848    -0.000054   \n",
       "1                                   Poids et mesures    -0.000044   \n",
       "2  Egalité des citoyens au point de vue de l'étab...    -0.000003   \n",
       "3  Droit de vote des Suisses établis, en matière ...    -0.000009   \n",
       "4      Impôts et rapports civils des Suisses établis    -0.000011   \n",
       "5  Droit de vote des Suisses établis, en matière ...    -0.000005   \n",
       "6                Liberté de conscience et des cultes     0.000266   \n",
       "7          Interdiction de certains genres de peines    -0.000210   \n",
       "8  Protection de la propriété littéraire, artisti...    -0.000005   \n",
       "9        Interdiction des loteries et jeux de hasard    -0.000143   \n",
       "\n",
       "   sentiment_fr sentiment_d_bert_label sentiment_fr_bert_label  \\\n",
       "0      0.480089               NEGATIVE                POSITIVE   \n",
       "1      0.431590               NEGATIVE                NEGATIVE   \n",
       "2      0.741770               NEGATIVE                POSITIVE   \n",
       "3      0.597496               NEGATIVE                NEGATIVE   \n",
       "4      0.492853               NEGATIVE                NEGATIVE   \n",
       "5      0.605837               NEGATIVE                NEGATIVE   \n",
       "6      0.832642               NEGATIVE                POSITIVE   \n",
       "7      0.513442               NEGATIVE                NEGATIVE   \n",
       "8      0.709514               NEGATIVE                POSITIVE   \n",
       "9      0.578163               NEGATIVE                NEGATIVE   \n",
       "\n",
       "   sentiment_d_bert_score  sentiment_fr_bert_score  \n",
       "0                0.760317                 0.961079  \n",
       "1                0.925410                 0.877566  \n",
       "2                0.744371                 0.874233  \n",
       "3                0.989402                 0.889291  \n",
       "4                0.924015                 0.976277  \n",
       "5                0.986888                 0.901213  \n",
       "6                0.966816                 0.979677  \n",
       "7                0.930426                 0.975560  \n",
       "8                0.769979                 0.996394  \n",
       "9                0.988488                 0.973286  "
      ]
     },
     "execution_count": 51,
     "metadata": {},
     "output_type": "execute_result"
    }
   ],
   "source": [
    "text_data.head(10)"
   ]
  },
  {
   "cell_type": "code",
   "execution_count": 53,
   "metadata": {},
   "outputs": [
    {
     "name": "stderr",
     "output_type": "stream",
     "text": [
      "Downloading pytorch_model.bin: 100%|██████████| 1.58M/1.58M [00:00<00:00, 15.0MB/s]\n",
      "Downloading rust_model.ot: 100%|██████████| 1.58M/1.58M [00:00<00:00, 32.3MB/s]\n",
      "Downloading (…)3a5428d96a/README.md: 100%|██████████| 2.37k/2.37k [00:00<00:00, 1.02MB/s]\n",
      "Downloading (…)5428d96a/config.json: 100%|██████████| 607/607 [00:00<00:00, 293kB/s]\n",
      "Downloading (…)ce_transformers.json: 100%|██████████| 122/122 [00:00<00:00, 59.3kB/s]\n",
      "Downloading pytorch_model.bin: 100%|██████████| 539M/539M [00:17<00:00, 30.6MB/s] \n",
      "Downloading (…)nce_bert_config.json: 100%|██████████| 53.0/53.0 [00:00<00:00, 57.1kB/s]\n",
      "Downloading (…)cial_tokens_map.json: 100%|██████████| 112/112 [00:00<00:00, 84.5kB/s]\n",
      "Downloading (…)8d96a/tokenizer.json: 100%|██████████| 1.96M/1.96M [00:00<00:00, 4.13MB/s]\n",
      "Downloading (…)okenizer_config.json: 100%|██████████| 528/528 [00:00<00:00, 211kB/s]\n",
      "Downloading (…)3a5428d96a/vocab.txt: 100%|██████████| 996k/996k [00:00<00:00, 3.55MB/s]\n",
      "Downloading (…)428d96a/modules.json: 100%|██████████| 341/341 [00:00<00:00, 203kB/s]\n"
     ]
    },
    {
     "name": "stdout",
     "output_type": "stream",
     "text": [
      "Cosine similarity: 0.7874468564987183\n"
     ]
    }
   ],
   "source": [
    "from sentence_transformers import SentenceTransformer\n",
    "from sklearn.metrics.pairwise import cosine_similarity\n",
    "\n",
    "# Load pre-trained models for German and French\n",
    "model_de = SentenceTransformer('distiluse-base-multilingual-cased')\n",
    "model_fr = SentenceTransformer('distiluse-base-multilingual-cased')\n",
    "\n",
    "# Define German and French sentences\n",
    "german_sentence = \"Das ist ein deutscher Satz.\"\n",
    "french_sentence = \"C'est une phrase en français.\"\n",
    "\n",
    "# Compute embeddings\n",
    "german_embedding = model_de.encode([german_sentence])\n",
    "french_embedding = model_fr.encode([french_sentence])\n",
    "\n",
    "# Compute cosine similarity\n",
    "similarity = cosine_similarity(german_embedding, french_embedding)[0][0]\n",
    "\n",
    "print(f\"Cosine similarity: {similarity}\")"
   ]
  },
  {
   "cell_type": "code",
   "execution_count": 61,
   "metadata": {},
   "outputs": [
    {
     "data": {
      "image/png": "[encoded data removed]",
      "text/plain": [
       "<Figure size 640x480 with 1 Axes>"
      ]
     },
     "metadata": {},
     "output_type": "display_data"
    }
   ],
   "source": [
    "import pandas as pd\n",
    "import matplotlib.pyplot as plt\n",
    "\n",
    "column1_counts = text_data['sentiment_d_bert_label'].value_counts()\n",
    "column2_counts = text_data['sentiment_fr_bert_label'].value_counts()\n",
    "\n",
    "fig, ax = plt.subplots()\n",
    "x = range(len(column1_counts))\n",
    "width = 0.35\n",
    "\n",
    "rects1 = ax.bar(x, column1_counts, width, label='German')\n",
    "rects2 = ax.bar([i + width for i in x], column2_counts, width, label='French')\n",
    "\n",
    "ax.set_xticks([i + width/2 for i in x])\n",
    "ax.set_xticklabels(column1_counts.index)\n",
    "\n",
    "ax.set_ylabel('Count')\n",
    "ax.set_title('Counts of Positive and Negative Sentiment results in German and French')\n",
    "ax.legend()\n",
    "\n",
    "plt.show()\n"
   ]
  },
  {
   "cell_type": "code",
   "execution_count": null,
   "metadata": {},
   "outputs": [],
   "source": []
  }
 ],
 "metadata": {
  "kernelspec": {
   "display_name": ".venv",
   "language": "python",
   "name": "python3"
  },
  "language_info": {
   "codemirror_mode": {
    "name": "ipython",
    "version": 3
   },
   "file_extension": ".py",
   "mimetype": "text/x-python",
   "name": "python",
   "nbconvert_exporter": "python",
   "pygments_lexer": "ipython3",
   "version": "3.9.6"
  },
  "orig_nbformat": 4
 },
 "nbformat": 4,
 "nbformat_minor": 2
}
